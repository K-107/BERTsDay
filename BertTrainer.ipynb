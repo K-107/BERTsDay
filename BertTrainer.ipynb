{
  "nbformat": 4,
  "nbformat_minor": 0,
  "metadata": {
    "colab": {
      "name": "BertTrainer.ipynb",
      "provenance": [],
      "collapsed_sections": [],
      "mount_file_id": "1tjMLTE_Xe8cK2Sc3DBYMxIHp33ZKMVQF",
      "authorship_tag": "ABX9TyPGlKeGK5NKL9qOhzvh4Wa5",
      "include_colab_link": true
    },
    "kernelspec": {
      "display_name": "Python 3",
      "name": "python3"
    },
    "language_info": {
      "name": "python"
    },
    "accelerator": "GPU"
  },
  "cells": [
    {
      "cell_type": "markdown",
      "metadata": {
        "id": "view-in-github",
        "colab_type": "text"
      },
      "source": [
        "<a href=\"https://colab.research.google.com/github/K-107/BERTsDay/blob/main/BertTrainer.ipynb\" target=\"_parent\"><img src=\"https://colab.research.google.com/assets/colab-badge.svg\" alt=\"Open In Colab\"/></a>"
      ]
    },
    {
      "cell_type": "code",
      "metadata": {
        "id": "MAiLYBm0AJFC",
        "colab": {
          "base_uri": "https://localhost:8080/"
        },
        "outputId": "71b38f56-89d9-4b7f-b3d6-5dc9ede05331"
      },
      "source": [
        "# GPU 정보 보기\n",
        "! nvidia-smi --query | fgrep 'Product Name'"
      ],
      "execution_count": 2,
      "outputs": [
        {
          "output_type": "stream",
          "text": [
            "    Product Name                          : Tesla P100-PCIE-16GB\n"
          ],
          "name": "stdout"
        }
      ]
    },
    {
      "cell_type": "code",
      "metadata": {
        "colab": {
          "base_uri": "https://localhost:8080/"
        },
        "id": "PUn97HspAMmB",
        "outputId": "42461f30-d4ce-4f20-f2d2-d91074c3b447"
      },
      "source": [
        "from google.colab import drive\n",
        "drive.mount('/content/drive')"
      ],
      "execution_count": 3,
      "outputs": [
        {
          "output_type": "stream",
          "text": [
            "Drive already mounted at /content/drive; to attempt to forcibly remount, call drive.mount(\"/content/drive\", force_remount=True).\n"
          ],
          "name": "stdout"
        }
      ]
    },
    {
      "cell_type": "code",
      "metadata": {
        "colab": {
          "base_uri": "https://localhost:8080/"
        },
        "id": "Dqr_RupN9eCR",
        "outputId": "6bc1f089-766e-402b-9cd2-9402c7e0130c"
      },
      "source": [
        "# 리포지토리 복제\n",
        "! git clone https://github.com/K-107/BERTsDay.git"
      ],
      "execution_count": 4,
      "outputs": [
        {
          "output_type": "stream",
          "text": [
            "Cloning into 'BERTsDay'...\n",
            "remote: Enumerating objects: 58, done.\u001b[K\n",
            "remote: Counting objects: 100% (58/58), done.\u001b[K\n",
            "remote: Compressing objects: 100% (48/48), done.\u001b[K\n",
            "remote: Total 58 (delta 11), reused 27 (delta 4), pack-reused 0\u001b[K\n",
            "Unpacking objects: 100% (58/58), done.\n"
          ],
          "name": "stdout"
        }
      ]
    },
    {
      "cell_type": "code",
      "metadata": {
        "colab": {
          "base_uri": "https://localhost:8080/"
        },
        "id": "Wnh1Cm8HFYLt",
        "outputId": "7ee0a616-27a0-4228-c724-709a584611a3"
      },
      "source": [
        "# 밑의 모듈은 텐서플로 1.x로 작성되었으므로 버전 변경\n",
        "! pip install --upgrade tensorflow==1.15.0rc3"
      ],
      "execution_count": 5,
      "outputs": [
        {
          "output_type": "stream",
          "text": [
            "Collecting tensorflow==1.15.0rc3\n",
            "\u001b[?25l  Downloading https://files.pythonhosted.org/packages/75/8f/5ef121d87b76500f6d90a19690fee25d51898b812173f114ce06c8a8c27f/tensorflow-1.15.0rc3-cp37-cp37m-manylinux2010_x86_64.whl (412.3MB)\n",
            "\u001b[K     |████████████████████████████████| 412.3MB 27kB/s \n",
            "\u001b[?25hRequirement already satisfied, skipping upgrade: protobuf>=3.6.1 in /usr/local/lib/python3.7/dist-packages (from tensorflow==1.15.0rc3) (3.12.4)\n",
            "Requirement already satisfied, skipping upgrade: termcolor>=1.1.0 in /usr/local/lib/python3.7/dist-packages (from tensorflow==1.15.0rc3) (1.1.0)\n",
            "Requirement already satisfied, skipping upgrade: wheel>=0.26 in /usr/local/lib/python3.7/dist-packages (from tensorflow==1.15.0rc3) (0.36.2)\n",
            "Requirement already satisfied, skipping upgrade: wrapt>=1.11.1 in /usr/local/lib/python3.7/dist-packages (from tensorflow==1.15.0rc3) (1.12.1)\n",
            "Requirement already satisfied, skipping upgrade: numpy<2.0,>=1.16.0 in /usr/local/lib/python3.7/dist-packages (from tensorflow==1.15.0rc3) (1.19.5)\n",
            "Requirement already satisfied, skipping upgrade: opt-einsum>=2.3.2 in /usr/local/lib/python3.7/dist-packages (from tensorflow==1.15.0rc3) (3.3.0)\n",
            "Requirement already satisfied, skipping upgrade: keras-preprocessing>=1.0.5 in /usr/local/lib/python3.7/dist-packages (from tensorflow==1.15.0rc3) (1.1.2)\n",
            "Requirement already satisfied, skipping upgrade: grpcio>=1.8.6 in /usr/local/lib/python3.7/dist-packages (from tensorflow==1.15.0rc3) (1.32.0)\n",
            "Requirement already satisfied, skipping upgrade: six>=1.10.0 in /usr/local/lib/python3.7/dist-packages (from tensorflow==1.15.0rc3) (1.15.0)\n",
            "Requirement already satisfied, skipping upgrade: astor>=0.6.0 in /usr/local/lib/python3.7/dist-packages (from tensorflow==1.15.0rc3) (0.8.1)\n",
            "Requirement already satisfied, skipping upgrade: google-pasta>=0.1.6 in /usr/local/lib/python3.7/dist-packages (from tensorflow==1.15.0rc3) (0.2.0)\n",
            "Collecting keras-applications>=1.0.8\n",
            "\u001b[?25l  Downloading https://files.pythonhosted.org/packages/71/e3/19762fdfc62877ae9102edf6342d71b28fbfd9dea3d2f96a882ce099b03f/Keras_Applications-1.0.8-py3-none-any.whl (50kB)\n",
            "\u001b[K     |████████████████████████████████| 51kB 5.3MB/s \n",
            "\u001b[?25hCollecting tensorboard<1.16.0,>=1.15.0\n",
            "\u001b[?25l  Downloading https://files.pythonhosted.org/packages/1e/e9/d3d747a97f7188f48aa5eda486907f3b345cd409f0a0850468ba867db246/tensorboard-1.15.0-py3-none-any.whl (3.8MB)\n",
            "\u001b[K     |████████████████████████████████| 3.8MB 25.6MB/s \n",
            "\u001b[?25hCollecting gast==0.2.2\n",
            "  Downloading https://files.pythonhosted.org/packages/4e/35/11749bf99b2d4e3cceb4d55ca22590b0d7c2c62b9de38ac4a4a7f4687421/gast-0.2.2.tar.gz\n",
            "Requirement already satisfied, skipping upgrade: absl-py>=0.7.0 in /usr/local/lib/python3.7/dist-packages (from tensorflow==1.15.0rc3) (0.12.0)\n",
            "Collecting tensorflow-estimator==1.15.1\n",
            "\u001b[?25l  Downloading https://files.pythonhosted.org/packages/de/62/2ee9cd74c9fa2fa450877847ba560b260f5d0fb70ee0595203082dafcc9d/tensorflow_estimator-1.15.1-py2.py3-none-any.whl (503kB)\n",
            "\u001b[K     |████████████████████████████████| 512kB 34.1MB/s \n",
            "\u001b[?25hRequirement already satisfied, skipping upgrade: setuptools in /usr/local/lib/python3.7/dist-packages (from protobuf>=3.6.1->tensorflow==1.15.0rc3) (54.2.0)\n",
            "Requirement already satisfied, skipping upgrade: h5py in /usr/local/lib/python3.7/dist-packages (from keras-applications>=1.0.8->tensorflow==1.15.0rc3) (2.10.0)\n",
            "Requirement already satisfied, skipping upgrade: werkzeug>=0.11.15 in /usr/local/lib/python3.7/dist-packages (from tensorboard<1.16.0,>=1.15.0->tensorflow==1.15.0rc3) (1.0.1)\n",
            "Requirement already satisfied, skipping upgrade: markdown>=2.6.8 in /usr/local/lib/python3.7/dist-packages (from tensorboard<1.16.0,>=1.15.0->tensorflow==1.15.0rc3) (3.3.4)\n",
            "Requirement already satisfied, skipping upgrade: importlib-metadata; python_version < \"3.8\" in /usr/local/lib/python3.7/dist-packages (from markdown>=2.6.8->tensorboard<1.16.0,>=1.15.0->tensorflow==1.15.0rc3) (3.8.1)\n",
            "Requirement already satisfied, skipping upgrade: typing-extensions>=3.6.4; python_version < \"3.8\" in /usr/local/lib/python3.7/dist-packages (from importlib-metadata; python_version < \"3.8\"->markdown>=2.6.8->tensorboard<1.16.0,>=1.15.0->tensorflow==1.15.0rc3) (3.7.4.3)\n",
            "Requirement already satisfied, skipping upgrade: zipp>=0.5 in /usr/local/lib/python3.7/dist-packages (from importlib-metadata; python_version < \"3.8\"->markdown>=2.6.8->tensorboard<1.16.0,>=1.15.0->tensorflow==1.15.0rc3) (3.4.1)\n",
            "Building wheels for collected packages: gast\n",
            "  Building wheel for gast (setup.py) ... \u001b[?25l\u001b[?25hdone\n",
            "  Created wheel for gast: filename=gast-0.2.2-cp37-none-any.whl size=7540 sha256=5e9f182c5e4030e994d7f30b247aa8034dc6ee618d577ec7c97e9dd74de86f18\n",
            "  Stored in directory: /root/.cache/pip/wheels/5c/2e/7e/a1d4d4fcebe6c381f378ce7743a3ced3699feb89bcfbdadadd\n",
            "Successfully built gast\n",
            "\u001b[31mERROR: tensorflow-probability 0.12.1 has requirement gast>=0.3.2, but you'll have gast 0.2.2 which is incompatible.\u001b[0m\n",
            "Installing collected packages: keras-applications, tensorboard, gast, tensorflow-estimator, tensorflow\n",
            "  Found existing installation: tensorboard 2.4.1\n",
            "    Uninstalling tensorboard-2.4.1:\n",
            "      Successfully uninstalled tensorboard-2.4.1\n",
            "  Found existing installation: gast 0.3.3\n",
            "    Uninstalling gast-0.3.3:\n",
            "      Successfully uninstalled gast-0.3.3\n",
            "  Found existing installation: tensorflow-estimator 2.4.0\n",
            "    Uninstalling tensorflow-estimator-2.4.0:\n",
            "      Successfully uninstalled tensorflow-estimator-2.4.0\n",
            "  Found existing installation: tensorflow 2.4.1\n",
            "    Uninstalling tensorflow-2.4.1:\n",
            "      Successfully uninstalled tensorflow-2.4.1\n",
            "Successfully installed gast-0.2.2 keras-applications-1.0.8 tensorboard-1.15.0 tensorflow-1.15.0rc3 tensorflow-estimator-1.15.1\n"
          ],
          "name": "stdout"
        }
      ]
    },
    {
      "cell_type": "markdown",
      "metadata": {
        "id": "c5bMIHUOIbEt"
      },
      "source": [
        "## pretrained BERT 모델을 모듈로 export\n",
        "\n",
        "ETRI에서 사전훈련한 BERT의 체크포인트를 가지고 BERT 모듈을 만드는 과정."
      ]
    },
    {
      "cell_type": "code",
      "metadata": {
        "id": "zeIaHvuVAHQz"
      },
      "source": [
        "! python /content/BERTsDay/Bert_fine_tuning/export_korbert/bert_to_module.py -i \"/content/drive/MyDrive/3_Slot_Tagging_Proj/004_bert_eojeol_tensorflow\" -o \"/content/drive/MyDrive/3_Slot_Tagging_Proj\""
      ],
      "execution_count": null,
      "outputs": []
    },
    {
      "cell_type": "markdown",
      "metadata": {
        "id": "OKjPC4RLIW52"
      },
      "source": [
        "## 데이터 준비\n",
        "\n",
        "모델을 훈련하기 위해 필요한 seq.in, seq.out이라는 2가지 파일을 만드는 과정.\n",
        "\n"
      ]
    },
    {
      "cell_type": "code",
      "metadata": {
        "colab": {
          "base_uri": "https://localhost:8080/"
        },
        "id": "PUvxSgyfKjlx",
        "outputId": "4ac68a3e-7b0f-4bb4-a475-a06f2ae2fb52"
      },
      "source": [
        "%cd /content/drive/MyDrive/3_Slot_Tagging_Proj/\n",
        "#!python make_data.py train_data.txt > train_data.txt"
      ],
      "execution_count": 5,
      "outputs": [
        {
          "output_type": "stream",
          "text": [
            "/content/drive/MyDrive/3_Slot_Tagging_Proj\n"
          ],
          "name": "stdout"
        }
      ]
    },
    {
      "cell_type": "code",
      "metadata": {
        "id": "KK7B70fE0U_V"
      },
      "source": [
        "#1. 텍스트 파일에서 랜덤한 문장만 추출하는 명령어\n",
        "!shuf -n 1000000 ./output_sample2.txt > ./sample/temp_0.txt"
      ],
      "execution_count": null,
      "outputs": []
    },
    {
      "cell_type": "code",
      "metadata": {
        "id": "dLKKh7I40eiS"
      },
      "source": [
        "# 2. 공백 문자 여러개를 하나로 줄이는 명령어\n",
        "! sed 's/  */ /g' ./sample/temp_0.txt > ./sample/temp_1.txt"
      ],
      "execution_count": null,
      "outputs": []
    },
    {
      "cell_type": "code",
      "metadata": {
        "id": "rJhi-Vg40ygx"
      },
      "source": [
        "#3. 앞, 뒤의 공백 문자를 없애는 명렁어\n",
        "#앞 :\n",
        "! sed 's/^ //g' ./sample/temp_1.txt > ./sample/temp_2.txt\n",
        "#뒤 :\n",
        "! sed 's/ $//g' ./sample/temp_2.txt > ./sample/temp_3.txt"
      ],
      "execution_count": null,
      "outputs": []
    },
    {
      "cell_type": "code",
      "metadata": {
        "colab": {
          "base_uri": "https://localhost:8080/"
        },
        "id": "SvJiIykZ00aJ",
        "outputId": "be10117c-09da-4ee1-a21a-4196db0f4b75"
      },
      "source": [
        "#4. 중복 제거하는 명령어 (두 가지 방법 모두 동일합니다.)\n",
        "! sort -u ./sample/temp_3.txt > ./sample/sample_1M.txt\n",
        "\n",
        "# 임시 파일들 제거\n",
        "! rm ./sample/temp_0.txt\n",
        "! rm ./sample/temp_1.txt\n",
        "! rm ./sample/temp_2.txt\n",
        "! rm ./sample/temp_3.txt"
      ],
      "execution_count": null,
      "outputs": [
        {
          "output_type": "stream",
          "text": [
            "tcmalloc: large alloc 1706696704 bytes == 0x55df4a29c000 @  0x7efd9176f1e7 0x55df497fc718 0x55df497fb5a1 0x7efd9114dbf7 0x55df497fc02a\n"
          ],
          "name": "stdout"
        }
      ]
    },
    {
      "cell_type": "code",
      "metadata": {
        "id": "Ao7gL5mBIS4B",
        "colab": {
          "base_uri": "https://localhost:8080/"
        },
        "outputId": "05bb32a5-ce91-4b55-fb65-1e3a7f1aa782"
      },
      "source": [
        "# 실행 전에 소스 수정 필요함\n",
        "! python /content/BERTsDay/Bert_fine_tuning/prepare_data.py -i ./sample/sample_1M.txt -o ./sample/"
      ],
      "execution_count": null,
      "outputs": [
        {
          "output_type": "stream",
          "text": [
            "WARNING:tensorflow:From /content/BERTsDay/Bert_fine_tuning/to_array/tokenizationK.py:133: The name tf.gfile.GFile is deprecated. Please use tf.io.gfile.GFile instead.\n",
            "\n"
          ],
          "name": "stdout"
        }
      ]
    },
    {
      "cell_type": "markdown",
      "metadata": {
        "id": "6RFAnVoM0Uqe"
      },
      "source": [
        "### Fine-tuing 훈련\n",
        "\n",
        "어떻게 하면 train_bert_finetuning.py 코드를 실행할 수 있는지 코드 내부의 parser을 참조하여 작성하세요."
      ]
    },
    {
      "cell_type": "code",
      "metadata": {
        "colab": {
          "base_uri": "https://localhost:8080/"
        },
        "id": "xM62k05JNOse",
        "outputId": "e593ddbe-7d96-4dc2-ee3e-5c9ff547a742"
      },
      "source": [
        "# 파인튜닝 훈련 모듈의 도움말\n",
        "! python /content/BERTsDay/Bert_fine_tuning/train_bert_finetuning.py --help"
      ],
      "execution_count": 13,
      "outputs": [
        {
          "output_type": "stream",
          "text": [
            "usage: Training the BERT NLU model [-h] --train TRAIN [--val VAL] --save SAVE\n",
            "                                   [--epochs EPOCHS] [--batch BATCH]\n",
            "                                   [--type TYPE] [--bertpath BERTPATH]\n",
            "\n",
            "optional arguments:\n",
            "  -h, --help            show this help message and exit\n",
            "  --train TRAIN, -t TRAIN\n",
            "                        Path to training set\n",
            "  --val VAL, -v VAL     Path to validation set\n",
            "  --save SAVE, -s SAVE  Folder path to save the trained model\n",
            "  --epochs EPOCHS, -e EPOCHS\n",
            "                        Number of epochs\n",
            "  --batch BATCH, -bs BATCH\n",
            "                        Batch size\n",
            "  --type TYPE, -tp TYPE\n",
            "                        bert or albert\n",
            "  --bertpath BERTPATH, -bp BERTPATH\n",
            "                        bert model hub path (=modularized pretrained bert\n",
            "                        path)\n"
          ],
          "name": "stdout"
        }
      ]
    },
    {
      "cell_type": "code",
      "metadata": {
        "colab": {
          "base_uri": "https://localhost:8080/"
        },
        "id": "ltH99gSK1Gel",
        "outputId": "ea1d9dd8-750c-4e6b-8eb8-ac8923e04bad"
      },
      "source": [
        "%cd /content/drive/MyDrive/3_Slot_Tagging_Proj/\n",
        "! python /content/BERTsDay/Bert_fine_tuning/train_bert_finetuning.py -bp \"/content/drive/MyDrive/3_Slot_Tagging_Proj/Bert_pretrained\" -t \"./sample/\" -s \"./Fine_tuned\" -e 3 -bs 256 -tp bert"
      ],
      "execution_count": 6,
      "outputs": [
        {
          "output_type": "stream",
          "text": [
            "WARNING:tensorflow:From /content/BERTsDay/Bert_fine_tuning/train_bert_finetuning.py:41: The name tf.ConfigProto is deprecated. Please use tf.compat.v1.ConfigProto instead.\n",
            "\n",
            "2021-04-13 02:51:09.217821: I tensorflow/core/platform/cpu_feature_guard.cc:142] Your CPU supports instructions that this TensorFlow binary was not compiled to use: AVX2 FMA\n",
            "2021-04-13 02:51:09.222510: I tensorflow/core/platform/profile_utils/cpu_utils.cc:94] CPU Frequency: 2199995000 Hz\n",
            "2021-04-13 02:51:09.222709: I tensorflow/compiler/xla/service/service.cc:168] XLA service 0x55afbca80680 initialized for platform Host (this does not guarantee that XLA will be used). Devices:\n",
            "2021-04-13 02:51:09.222739: I tensorflow/compiler/xla/service/service.cc:176]   StreamExecutor device (0): Host, Default Version\n",
            "2021-04-13 02:51:09.226727: I tensorflow/stream_executor/platform/default/dso_loader.cc:44] Successfully opened dynamic library libcuda.so.1\n",
            "2021-04-13 02:51:09.410315: I tensorflow/stream_executor/cuda/cuda_gpu_executor.cc:983] successful NUMA node read from SysFS had negative value (-1), but there must be at least one NUMA node, so returning NUMA node zero\n",
            "2021-04-13 02:51:09.411152: I tensorflow/compiler/xla/service/service.cc:168] XLA service 0x55afbca80f40 initialized for platform CUDA (this does not guarantee that XLA will be used). Devices:\n",
            "2021-04-13 02:51:09.411184: I tensorflow/compiler/xla/service/service.cc:176]   StreamExecutor device (0): Tesla T4, Compute Capability 7.5\n",
            "2021-04-13 02:51:09.411926: I tensorflow/stream_executor/cuda/cuda_gpu_executor.cc:983] successful NUMA node read from SysFS had negative value (-1), but there must be at least one NUMA node, so returning NUMA node zero\n",
            "2021-04-13 02:51:09.412466: I tensorflow/core/common_runtime/gpu/gpu_device.cc:1618] Found device 0 with properties: \n",
            "name: Tesla T4 major: 7 minor: 5 memoryClockRate(GHz): 1.59\n",
            "pciBusID: 0000:00:04.0\n",
            "2021-04-13 02:51:09.425143: I tensorflow/stream_executor/platform/default/dso_loader.cc:44] Successfully opened dynamic library libcudart.so.10.0\n",
            "2021-04-13 02:51:09.632064: I tensorflow/stream_executor/platform/default/dso_loader.cc:44] Successfully opened dynamic library libcublas.so.10.0\n",
            "2021-04-13 02:51:09.723179: I tensorflow/stream_executor/platform/default/dso_loader.cc:44] Successfully opened dynamic library libcufft.so.10.0\n",
            "2021-04-13 02:51:09.744590: I tensorflow/stream_executor/platform/default/dso_loader.cc:44] Successfully opened dynamic library libcurand.so.10.0\n",
            "2021-04-13 02:51:09.973055: I tensorflow/stream_executor/platform/default/dso_loader.cc:44] Successfully opened dynamic library libcusolver.so.10.0\n",
            "2021-04-13 02:51:10.124849: I tensorflow/stream_executor/platform/default/dso_loader.cc:44] Successfully opened dynamic library libcusparse.so.10.0\n",
            "2021-04-13 02:51:10.624527: I tensorflow/stream_executor/platform/default/dso_loader.cc:44] Successfully opened dynamic library libcudnn.so.7\n",
            "2021-04-13 02:51:10.624736: I tensorflow/stream_executor/cuda/cuda_gpu_executor.cc:983] successful NUMA node read from SysFS had negative value (-1), but there must be at least one NUMA node, so returning NUMA node zero\n",
            "2021-04-13 02:51:10.625435: I tensorflow/stream_executor/cuda/cuda_gpu_executor.cc:983] successful NUMA node read from SysFS had negative value (-1), but there must be at least one NUMA node, so returning NUMA node zero\n",
            "2021-04-13 02:51:10.626012: I tensorflow/core/common_runtime/gpu/gpu_device.cc:1746] Adding visible gpu devices: 0\n",
            "2021-04-13 02:51:10.626121: I tensorflow/stream_executor/platform/default/dso_loader.cc:44] Successfully opened dynamic library libcudart.so.10.0\n",
            "2021-04-13 02:51:10.628306: I tensorflow/core/common_runtime/gpu/gpu_device.cc:1159] Device interconnect StreamExecutor with strength 1 edge matrix:\n",
            "2021-04-13 02:51:10.628339: I tensorflow/core/common_runtime/gpu/gpu_device.cc:1165]      0 \n",
            "2021-04-13 02:51:10.628350: I tensorflow/core/common_runtime/gpu/gpu_device.cc:1178] 0:   N \n",
            "2021-04-13 02:51:10.628482: I tensorflow/stream_executor/cuda/cuda_gpu_executor.cc:983] successful NUMA node read from SysFS had negative value (-1), but there must be at least one NUMA node, so returning NUMA node zero\n",
            "2021-04-13 02:51:10.629112: I tensorflow/stream_executor/cuda/cuda_gpu_executor.cc:983] successful NUMA node read from SysFS had negative value (-1), but there must be at least one NUMA node, so returning NUMA node zero\n",
            "2021-04-13 02:51:10.629631: W tensorflow/core/common_runtime/gpu/gpu_bfc_allocator.cc:39] Overriding allow_growth setting because the TF_FORCE_GPU_ALLOW_GROWTH environment variable is set. Original config value was 0.\n",
            "2021-04-13 02:51:10.629681: I tensorflow/core/common_runtime/gpu/gpu_device.cc:1304] Created TensorFlow device (/job:localhost/replica:0/task:0/device:GPU:0 with 14257 MB memory) -> physical GPU (device: 0, name: Tesla T4, pci bus id: 0000:00:04.0, compute capability: 7.5)\n",
            "read data ...\n",
            "train_text_arr[0:2] : ['김 민주 ᆫ _ 이름 으로_ 빈_ 거_ 예 약_', '0 시_ 부터_ 10 시_ 까지_ 총_ 10 명_ 김 민주 ᆫ _ 이름 으로_ 10월_ 22일_ 빈_ 거_ 예 약_']\n",
            "train_tags_arr[0:2] : ['이름 이름 이름 이름 O O O O O O', '시작시간 시작시간 O 종료시간 종료시간 O O 인원 인원 이름 이름 이름 이름 O O 날짜 날짜 O O O O']\n",
            "initializing!\n",
            "is_bert : True\n",
            "WARNING:tensorflow:From /content/BERTsDay/Bert_fine_tuning/to_array/tokenizationK.py:133: The name tf.gfile.GFile is deprecated. Please use tf.io.gfile.GFile instead.\n",
            "\n",
            "initialized!\n",
            "bert toarray started ...\n",
            "transform started\n",
            "vectorize tags ...\n",
            "/content/BERTsDay/Bert_fine_tuning/to_array/tags_to_array.py:27: VisibleDeprecationWarning: Creating an ndarray from ragged nested sequences (which is a list-or-tuple of lists-or-tuples-or ndarrays with different lengths or shapes) is deprecated. If you meant to do this, you must specify 'dtype=object' when creating the ndarray\n",
            "  data = np.array(data)\n",
            "train_tags : [[1. 4. 4. 4. 4. 1. 1. 1. 1. 1. 1. 1. 0. 0. 0. 0. 0. 0. 0. 0. 0. 0. 0. 0.\n",
            "  0. 0. 0. 0.]\n",
            " [1. 3. 3. 1. 6. 6. 1. 1. 5. 5. 4. 4. 4. 4. 1. 1. 2. 2. 1. 1. 1. 1. 1. 0.\n",
            "  0. 0. 0. 0.]]\n",
            "slot num : 7 ['<PAD>' 'O' '날짜' '시작시간' '이름' '인원' '종료시간']\n",
            "bert inputs : [<tf.Tensor 'input_ids:0' shape=(?, ?) dtype=int32>, <tf.Tensor 'input_mask:0' shape=(?, ?) dtype=int32>, <tf.Tensor 'segment_ids:0' shape=(?, ?) dtype=int32>]\n",
            "init ok\n",
            "call ok\n",
            "WARNING:tensorflow:From /usr/local/lib/python3.7/dist-packages/tensorflow_core/python/ops/resource_variable_ops.py:1630: calling BaseResourceVariable.__init__ (from tensorflow.python.ops.resource_variable_ops) with constraint is deprecated and will be removed in a future version.\n",
            "Instructions for updating:\n",
            "If using Keras pass *_constraint arguments to layers.\n",
            "WARNING:tensorflow:From /usr/local/lib/python3.7/dist-packages/tensorflow_core/python/ops/resource_variable_ops.py:1630: calling BaseResourceVariable.__init__ (from tensorflow.python.ops.resource_variable_ops) with constraint is deprecated and will be removed in a future version.\n",
            "Instructions for updating:\n",
            "If using Keras pass *_constraint arguments to layers.\n",
            "slots output : (?, ?, 7)\n",
            "Model: \"model\"\n",
            "__________________________________________________________________________________________________\n",
            "Layer (type)                    Output Shape         Param #     Connected to                     \n",
            "==================================================================================================\n",
            "input_ids (InputLayer)          [(None, None)]       0                                            \n",
            "__________________________________________________________________________________________________\n",
            "input_mask (InputLayer)         [(None, None)]       0                                            \n",
            "__________________________________________________________________________________________________\n",
            "segment_ids (InputLayer)        [(None, None)]       0                                            \n",
            "__________________________________________________________________________________________________\n",
            "KorBertLayer (KorBertLayer)     (None, None, 768)    109693440   input_ids[0][0]                  \n",
            "                                                                 input_mask[0][0]                 \n",
            "                                                                 segment_ids[0][0]                \n",
            "__________________________________________________________________________________________________\n",
            "time_distributed (TimeDistribut (None, None, 7)      5383        KorBertLayer[0][0]               \n",
            "==================================================================================================\n",
            "Total params: 109,698,823\n",
            "Trainable params: 70,884,103\n",
            "Non-trainable params: 38,814,720\n",
            "__________________________________________________________________________________________________\n",
            "train input shape : (998737, 28) [[    2   120   919 16007     9  1110    31  2899  1206   223   623     3\n",
            "      0     0     0     0     0     0     0     0     0     0     0     0\n",
            "      0     0     0     0]\n",
            " [    2   296   228   397   220   228   167  1122   220   563   120   919\n",
            "  16007     9  1110    31  1347  2459  2899  1206   223   623     3     0\n",
            "      0     0     0     0]]\n",
            "train_input_mask : (998737, 28) [[1 1 1 1 1 1 1 1 1 1 1 1 0 0 0 0 0 0 0 0 0 0 0 0 0 0 0 0]\n",
            " [1 1 1 1 1 1 1 1 1 1 1 1 1 1 1 1 1 1 1 1 1 1 1 0 0 0 0 0]]\n",
            "train_segment_ids : (998737, 28) [[0 0 0 0 0 0 0 0 0 0 0 0 0 0 0 0 0 0 0 0 0 0 0 0 0 0 0 0]\n",
            " [0 0 0 0 0 0 0 0 0 0 0 0 0 0 0 0 0 0 0 0 0 0 0 0 0 0 0 0]]\n",
            "train_tags : (998737, 28) [[1. 4. 4. 4. 4. 1. 1. 1. 1. 1. 1. 1. 0. 0. 0. 0. 0. 0. 0. 0. 0. 0. 0. 0.\n",
            "  0. 0. 0. 0.]\n",
            " [1. 3. 3. 1. 6. 6. 1. 1. 5. 5. 4. 4. 4. 4. 1. 1. 2. 2. 1. 1. 1. 1. 1. 0.\n",
            "  0. 0. 0. 0.]]\n",
            "training model ...\n",
            "WARNING:tensorflow:From /usr/local/lib/python3.7/dist-packages/tensorflow_core/python/ops/math_grad.py:1424: where (from tensorflow.python.ops.array_ops) is deprecated and will be removed in a future version.\n",
            "Instructions for updating:\n",
            "Use tf.where in 2.0, which has the same broadcast rule as np.where\n",
            "WARNING:tensorflow:From /usr/local/lib/python3.7/dist-packages/tensorflow_core/python/ops/math_grad.py:1424: where (from tensorflow.python.ops.array_ops) is deprecated and will be removed in a future version.\n",
            "Instructions for updating:\n",
            "Use tf.where in 2.0, which has the same broadcast rule as np.where\n",
            "Train on 998737 samples\n",
            "Epoch 1/3\n",
            "2021-04-13 02:53:53.725198: I tensorflow/stream_executor/platform/default/dso_loader.cc:44] Successfully opened dynamic library libcublas.so.10.0\n",
            "998737/998737 [==============================] - 4592s 5ms/sample - loss: 0.0015 - sparse_categorical_crossentropy: 0.0015\n",
            "Epoch 2/3\n",
            "998737/998737 [==============================] - 4596s 5ms/sample - loss: 6.8876e-07 - sparse_categorical_crossentropy: 6.8875e-07\n",
            "Epoch 3/3\n",
            "998737/998737 [==============================] - 4597s 5ms/sample - loss: 6.8185e-07 - sparse_categorical_crossentropy: 6.8184e-07\n",
            "Saving ..\n"
          ],
          "name": "stdout"
        }
      ]
    },
    {
      "cell_type": "markdown",
      "metadata": {
        "id": "S1ndD9dn2FlU"
      },
      "source": [
        "## 모델 평가\n",
        "\n",
        "TODO - 위의 내용처럼 어떻게 하면 eval_bert_finetuned.py 코드를 실행할 수 있는지 코드 내부의 parser을 참조하여 작성하세요.\n",
        "테스트의 결과는 --model에 넣어준 모델 경로 아래의 test_results에 저장된다."
      ]
    },
    {
      "cell_type": "code",
      "metadata": {
        "colab": {
          "base_uri": "https://localhost:8080/"
        },
        "id": "2MRH17V2NKdF",
        "outputId": "50c7fbcc-5369-4981-97ef-927128c755e8"
      },
      "source": [
        "# 파인튜닝 모델 평가 모듈의 도움말\n",
        "! python /content/BERTsDay/Bert_fine_tuning/eval_bert_finetuned.py --help"
      ],
      "execution_count": 12,
      "outputs": [
        {
          "output_type": "stream",
          "text": [
            "usage: Evaluating the BERT / ALBERT NLU model [-h] --model MODEL --data DATA\n",
            "                                              [--type TYPE]\n",
            "                                              [--bertpath BERTPATH]\n",
            "\n",
            "optional arguments:\n",
            "  -h, --help            show this help message and exit\n",
            "  --model MODEL, -m MODEL\n",
            "                        Path to BERT / ALBERT NLU model\n",
            "  --data DATA, -d DATA  Path to data\n",
            "  --type TYPE, -tp TYPE\n",
            "                        bert or albert\n",
            "  --bertpath BERTPATH, -bp BERTPATH\n",
            "                        bert model hub path (=modularized pretrained bert\n",
            "                        path)\n"
          ],
          "name": "stdout"
        }
      ]
    },
    {
      "cell_type": "code",
      "metadata": {
        "id": "1CM7LuAD2HEK",
        "colab": {
          "base_uri": "https://localhost:8080/"
        },
        "outputId": "8e90dbb4-86e8-43ef-db1b-f3b1169df642"
      },
      "source": [
        "%cd /content/drive/MyDrive/3_Slot_Tagging_Proj/\n",
        "! python /content/BERTsDay/Bert_fine_tuning/eval_bert_finetuned.py -bp \"./Bert_pretrained/\" -t bert -m \"./Fine_tuned/\" -d \"./sample/\""
      ],
      "execution_count": 9,
      "outputs": [
        {
          "output_type": "stream",
          "text": [
            "/content/drive/MyDrive/3_Slot_Tagging_Proj\n",
            "WARNING:tensorflow:From /content/BERTsDay/Bert_fine_tuning/eval_bert_finetuned.py:33: The name tf.ConfigProto is deprecated. Please use tf.compat.v1.ConfigProto instead.\n",
            "\n",
            "WARNING:tensorflow:From /content/BERTsDay/Bert_fine_tuning/eval_bert_finetuned.py:37: The name tf.Session is deprecated. Please use tf.compat.v1.Session instead.\n",
            "\n",
            "2021-04-13 07:46:07.962338: I tensorflow/core/platform/cpu_feature_guard.cc:142] Your CPU supports instructions that this TensorFlow binary was not compiled to use: AVX2 FMA\n",
            "2021-04-13 07:46:07.968568: I tensorflow/core/platform/profile_utils/cpu_utils.cc:94] CPU Frequency: 2199995000 Hz\n",
            "2021-04-13 07:46:07.969076: I tensorflow/compiler/xla/service/service.cc:168] XLA service 0x556ab1b7c680 initialized for platform Host (this does not guarantee that XLA will be used). Devices:\n",
            "2021-04-13 07:46:07.969116: I tensorflow/compiler/xla/service/service.cc:176]   StreamExecutor device (0): Host, Default Version\n",
            "2021-04-13 07:46:07.971113: I tensorflow/stream_executor/platform/default/dso_loader.cc:44] Successfully opened dynamic library libcuda.so.1\n",
            "2021-04-13 07:46:07.975677: E tensorflow/stream_executor/cuda/cuda_driver.cc:318] failed call to cuInit: CUDA_ERROR_NO_DEVICE: no CUDA-capable device is detected\n",
            "2021-04-13 07:46:07.975740: I tensorflow/stream_executor/cuda/cuda_diagnostics.cc:169] retrieving CUDA diagnostic information for host: 4cc786596535\n",
            "2021-04-13 07:46:07.975766: I tensorflow/stream_executor/cuda/cuda_diagnostics.cc:176] hostname: 4cc786596535\n",
            "2021-04-13 07:46:07.975879: I tensorflow/stream_executor/cuda/cuda_diagnostics.cc:200] libcuda reported version is: 460.32.3\n",
            "2021-04-13 07:46:07.975941: I tensorflow/stream_executor/cuda/cuda_diagnostics.cc:204] kernel reported version is: 460.32.3\n",
            "2021-04-13 07:46:07.975969: I tensorflow/stream_executor/cuda/cuda_diagnostics.cc:310] kernel version seems to match DSO: 460.32.3\n",
            "initializing!\n",
            "is_bert : True\n",
            "WARNING:tensorflow:From /content/BERTsDay/Bert_fine_tuning/to_array/tokenizationK.py:133: The name tf.gfile.GFile is deprecated. Please use tf.io.gfile.GFile instead.\n",
            "\n",
            "initialized!\n",
            "Loading models ...\n",
            "bert inputs : [<tf.Tensor 'input_ids:0' shape=(?, ?) dtype=int32>, <tf.Tensor 'input_mask:0' shape=(?, ?) dtype=int32>, <tf.Tensor 'segment_ids:0' shape=(?, ?) dtype=int32>]\n",
            "init ok\n",
            "call ok\n",
            "WARNING:tensorflow:From /usr/local/lib/python3.7/dist-packages/tensorflow_core/python/ops/resource_variable_ops.py:1630: calling BaseResourceVariable.__init__ (from tensorflow.python.ops.resource_variable_ops) with constraint is deprecated and will be removed in a future version.\n",
            "Instructions for updating:\n",
            "If using Keras pass *_constraint arguments to layers.\n",
            "WARNING:tensorflow:From /usr/local/lib/python3.7/dist-packages/tensorflow_core/python/ops/resource_variable_ops.py:1630: calling BaseResourceVariable.__init__ (from tensorflow.python.ops.resource_variable_ops) with constraint is deprecated and will be removed in a future version.\n",
            "Instructions for updating:\n",
            "If using Keras pass *_constraint arguments to layers.\n",
            "slots output : (?, ?, 7)\n",
            "Model: \"model\"\n",
            "__________________________________________________________________________________________________\n",
            "Layer (type)                    Output Shape         Param #     Connected to                     \n",
            "==================================================================================================\n",
            "input_ids (InputLayer)          [(None, None)]       0                                            \n",
            "__________________________________________________________________________________________________\n",
            "input_mask (InputLayer)         [(None, None)]       0                                            \n",
            "__________________________________________________________________________________________________\n",
            "segment_ids (InputLayer)        [(None, None)]       0                                            \n",
            "__________________________________________________________________________________________________\n",
            "KorBertLayer (KorBertLayer)     (None, None, 768)    109693440   input_ids[0][0]                  \n",
            "                                                                 input_mask[0][0]                 \n",
            "                                                                 segment_ids[0][0]                \n",
            "__________________________________________________________________________________________________\n",
            "time_distributed (TimeDistribut (None, None, 7)      5383        KorBertLayer[0][0]               \n",
            "==================================================================================================\n",
            "Total params: 109,698,823\n",
            "Trainable params: 70,884,103\n",
            "Non-trainable params: 38,814,720\n",
            "__________________________________________________________________________________________________\n",
            "transform started\n",
            "^C\n"
          ],
          "name": "stdout"
        }
      ]
    },
    {
      "cell_type": "markdown",
      "metadata": {
        "id": "twFK8y4v2I0F"
      },
      "source": [
        "## Inference (임의의 문장을 모델에 넣어보기)\n",
        "\n",
        "TODO - eval_bert_finetuned.py를 참고하여 한 문장씩 넣어서 모델이 내뱉는 결과물을 볼 수 있도록 inference.py 코드를 완성하세요.  \n",
        "python inference.py --model {훈련된 모델이 저장된 경로}  \n",
        "예시: python inference.py --model saved_model/  \n",
        "모델 자체가 용량이 커서 불러오는 데까지 시간이 걸림  \n",
        "\"Enter your sentence:\"라는 문구가 나오면 모델에 넣어보고 싶은 문장을 넣어 주면 됨  \n",
        "quit라는 입력을 넣어 주면 종료  "
      ]
    },
    {
      "cell_type": "code",
      "metadata": {
        "colab": {
          "base_uri": "https://localhost:8080/"
        },
        "id": "P1Y6sZvmNG-B",
        "outputId": "4835e1fe-54b5-4d4a-ac76-051d6ac87773"
      },
      "source": [
        "# 파인튜닝 추론 모듈의 도움말\n",
        "! python /content/BERTsDay/Bert_fine_tuning/inference.py --help"
      ],
      "execution_count": 11,
      "outputs": [
        {
          "output_type": "stream",
          "text": [
            "usage: Evaluating the BERT / ALBERT NLU model [-h] --model MODEL [--type TYPE]\n",
            "                                              [--bertpath BERTPATH]\n",
            "\n",
            "optional arguments:\n",
            "  -h, --help            show this help message and exit\n",
            "  --model MODEL, -m MODEL\n",
            "                        Path to BERT / ALBERT NLU model\n",
            "  --type TYPE, -tp TYPE\n",
            "                        bert or albert\n",
            "  --bertpath BERTPATH, -bp BERTPATH\n",
            "                        bert model hub path (=modularized pretrained bert\n",
            "                        path)\n"
          ],
          "name": "stdout"
        }
      ]
    },
    {
      "cell_type": "code",
      "metadata": {
        "id": "RRNjDviv2ImB",
        "colab": {
          "base_uri": "https://localhost:8080/"
        },
        "outputId": "feb70bff-00ef-4331-d787-5962181ef86e"
      },
      "source": [
        "# \n",
        "%cd /content/drive/MyDrive/3_Slot_Tagging_Proj/\n",
        "!python /content/BERTsDay/Bert_fine_tuning/inference.py -bp \"./Bert_pretrained/\" -m \"./Fine_tuned\" -tp bert"
      ],
      "execution_count": 10,
      "outputs": [
        {
          "output_type": "stream",
          "text": [
            "/content/drive/MyDrive/3_Slot_Tagging_Proj\n",
            "WARNING:tensorflow:From /content/BERTsDay/Bert_fine_tuning/inference.py:34: The name tf.ConfigProto is deprecated. Please use tf.compat.v1.ConfigProto instead.\n",
            "\n",
            "2021-04-13 07:48:27.703715: I tensorflow/core/platform/cpu_feature_guard.cc:142] Your CPU supports instructions that this TensorFlow binary was not compiled to use: AVX2 FMA\n",
            "2021-04-13 07:48:27.708943: I tensorflow/core/platform/profile_utils/cpu_utils.cc:94] CPU Frequency: 2199995000 Hz\n",
            "2021-04-13 07:48:27.709135: I tensorflow/compiler/xla/service/service.cc:168] XLA service 0x5558ece24680 initialized for platform Host (this does not guarantee that XLA will be used). Devices:\n",
            "2021-04-13 07:48:27.709174: I tensorflow/compiler/xla/service/service.cc:176]   StreamExecutor device (0): Host, Default Version\n",
            "2021-04-13 07:48:27.711074: I tensorflow/stream_executor/platform/default/dso_loader.cc:44] Successfully opened dynamic library libcuda.so.1\n",
            "2021-04-13 07:48:27.715087: E tensorflow/stream_executor/cuda/cuda_driver.cc:318] failed call to cuInit: CUDA_ERROR_NO_DEVICE: no CUDA-capable device is detected\n",
            "2021-04-13 07:48:27.715134: I tensorflow/stream_executor/cuda/cuda_diagnostics.cc:169] retrieving CUDA diagnostic information for host: 4cc786596535\n",
            "2021-04-13 07:48:27.715159: I tensorflow/stream_executor/cuda/cuda_diagnostics.cc:176] hostname: 4cc786596535\n",
            "2021-04-13 07:48:27.715251: I tensorflow/stream_executor/cuda/cuda_diagnostics.cc:200] libcuda reported version is: 460.32.3\n",
            "2021-04-13 07:48:27.715315: I tensorflow/stream_executor/cuda/cuda_diagnostics.cc:204] kernel reported version is: 460.32.3\n",
            "2021-04-13 07:48:27.715340: I tensorflow/stream_executor/cuda/cuda_diagnostics.cc:310] kernel version seems to match DSO: 460.32.3\n",
            "initializing!\n",
            "is_bert : True\n",
            "WARNING:tensorflow:From /content/BERTsDay/Bert_fine_tuning/to_array/tokenizationK.py:133: The name tf.gfile.GFile is deprecated. Please use tf.io.gfile.GFile instead.\n",
            "\n",
            "initialized!\n",
            "Loading models ...\n",
            "bert inputs : [<tf.Tensor 'input_ids:0' shape=(?, ?) dtype=int32>, <tf.Tensor 'input_mask:0' shape=(?, ?) dtype=int32>, <tf.Tensor 'segment_ids:0' shape=(?, ?) dtype=int32>]\n",
            "init ok\n",
            "call ok\n",
            "WARNING:tensorflow:From /usr/local/lib/python3.7/dist-packages/tensorflow_core/python/ops/resource_variable_ops.py:1630: calling BaseResourceVariable.__init__ (from tensorflow.python.ops.resource_variable_ops) with constraint is deprecated and will be removed in a future version.\n",
            "Instructions for updating:\n",
            "If using Keras pass *_constraint arguments to layers.\n",
            "WARNING:tensorflow:From /usr/local/lib/python3.7/dist-packages/tensorflow_core/python/ops/resource_variable_ops.py:1630: calling BaseResourceVariable.__init__ (from tensorflow.python.ops.resource_variable_ops) with constraint is deprecated and will be removed in a future version.\n",
            "Instructions for updating:\n",
            "If using Keras pass *_constraint arguments to layers.\n",
            "slots output : (?, ?, 7)\n",
            "Model: \"model\"\n",
            "__________________________________________________________________________________________________\n",
            "Layer (type)                    Output Shape         Param #     Connected to                     \n",
            "==================================================================================================\n",
            "input_ids (InputLayer)          [(None, None)]       0                                            \n",
            "__________________________________________________________________________________________________\n",
            "input_mask (InputLayer)         [(None, None)]       0                                            \n",
            "__________________________________________________________________________________________________\n",
            "segment_ids (InputLayer)        [(None, None)]       0                                            \n",
            "__________________________________________________________________________________________________\n",
            "KorBertLayer (KorBertLayer)     (None, None, 768)    109693440   input_ids[0][0]                  \n",
            "                                                                 input_mask[0][0]                 \n",
            "                                                                 segment_ids[0][0]                \n",
            "__________________________________________________________________________________________________\n",
            "time_distributed (TimeDistribut (None, None, 7)      5383        KorBertLayer[0][0]               \n",
            "==================================================================================================\n",
            "Total params: 109,698,823\n",
            "Trainable params: 70,884,103\n",
            "Non-trainable params: 38,814,720\n",
            "__________________________________________________________________________________________________\n",
            "\n",
            "Enter your sentence: \n",
            "저 예약해도되나요?\n",
            "transform started\n",
            "Inferred tags\n",
            "[['O'], ['O'], ['O'], ['O'], ['O'], ['O'], ['O'], ['O'], ['O'], ['O']]\n",
            "Slots score\n",
            "[[None], [None], [None], [None], [None], [None], [None], [None], [None], [None]]\n",
            "\n",
            "Enter your sentence: \n",
            "이종희로 3시에 예약해줘\n",
            "transform started\n",
            "Inferred tags\n",
            "[['O'], ['O'], ['인원'], ['O'], ['O'], ['O'], ['O'], ['O'], ['O'], ['O'], ['O'], ['O'], ['O']]\n",
            "Slots score\n",
            "[[None], [None], [None], [None], [None], [None], [None], [None], [None], [None], [None], [None], [None]]\n",
            "\n",
            "Enter your sentence: \n",
            "내가 4월 달을 제일 좋아하는데말야 스터디룸에서 공부하기 참 좋은 3시쯤에 공부를 하고싶다는 생각이 들기도 하던 찰나에 내 이름 이종희를 걸고 반드시 스터디룸에서 공부를 하고싶단 굳은 결의로 핸드폰 번호 010-1111-1111을 예약 으로 남기고 날짜는 이제 거의 시험 날짜에 가까워진 15일에 같이 공부하는 사람들이 4명 정도 될꺼같은데 우린 정말 공부를 열심히 할꺼거든 그러니까 언능 예약해줄 수 있겟니?\n",
            "transform started\n",
            "/content/BERTsDay/Bert_fine_tuning/models/bert_slot_model.py:108: VisibleDeprecationWarning: Creating an ndarray from ragged nested sequences (which is a list-or-tuple of lists-or-tuples-or ndarrays with different lengths or shapes) is deprecated. If you meant to do this, you must specify 'dtype=object' when creating the ndarray\n",
            "  y_slots = np.array([[x for x in y_slots[i][1:(len(slots[i])+1)]] for i in range(y_slots.shape[0])])\n",
            "Inferred tags\n",
            "[['O'], ['O'], ['O'], ['O'], ['O'], ['O'], ['O'], ['O'], ['O'], ['O'], ['O'], ['O'], ['O'], ['O'], ['O'], ['O'], ['O'], ['O'], ['O'], ['O'], ['O'], ['O'], ['O'], [], ['O'], ['O'], ['O'], ['O'], ['O'], ['O'], ['O'], ['O'], ['O'], ['O'], ['O'], ['O'], ['O'], ['O'], ['O'], ['O'], ['O'], ['O'], ['O'], ['O'], ['O'], ['O'], ['O'], ['O'], ['O'], ['O'], ['O'], ['O'], ['O'], ['O'], ['O'], ['O'], ['O'], ['O'], ['O'], ['O'], ['O'], ['O'], ['O'], ['O'], ['O'], ['O'], ['O'], ['O'], ['O'], ['O'], ['O'], ['O'], ['O'], ['O'], ['인원'], ['O'], ['O'], ['날짜'], ['O'], ['O'], ['O'], ['O'], ['O'], ['O'], ['O'], ['O'], ['O'], [], ['O'], ['O'], ['O'], ['O'], ['O'], ['O'], ['O'], ['O'], ['O'], ['O'], ['O'], ['O'], ['O'], ['O'], ['O'], ['O'], ['O'], ['O'], ['O'], ['O'], ['O'], ['O'], ['O'], ['O'], ['O'], ['O'], ['O'], ['O'], ['O'], ['O'], ['O'], ['O'], ['O'], ['O'], ['O'], ['O'], ['O'], ['O'], ['O'], ['O'], ['O'], ['O'], ['O'], ['O'], ['O'], ['O'], ['O'], ['O'], ['O'], ['O'], ['O'], ['O'], ['O'], ['O'], ['O'], ['O'], ['O'], ['O'], ['O'], ['O'], ['O'], ['O'], ['O'], ['O'], ['O'], ['O'], ['O'], ['O'], ['O'], ['O'], ['O'], ['O'], ['O'], ['O'], ['인원'], ['O'], ['O'], ['O'], ['O'], ['O'], ['O'], ['O'], ['O'], ['O'], ['O'], ['O'], ['O'], ['O'], ['O'], ['O'], ['O'], ['O'], ['O'], ['O'], ['O'], ['O'], ['O'], ['O'], ['O'], ['O'], ['O'], ['O'], ['O'], ['O'], ['O'], ['O'], ['O'], ['O'], ['O'], ['O'], ['O'], ['O'], ['O'], ['O'], ['O'], ['인원'], ['O'], ['O'], ['O'], ['O'], ['O'], ['O'], ['O'], ['O'], ['O'], ['O'], ['O'], ['O'], ['O'], ['O'], ['O'], ['O'], ['O'], ['O'], ['O'], ['O'], ['O'], ['인원'], ['인원'], ['O'], ['O']]\n",
            "Slots score\n",
            "[[None], [None], [None], [None], [None], [None], [None], [None], [None], [None], [None], [None], [None], [None], [None], [None], [None], [None], [None], [None], [None], [None], [None], [], [None], [None], [None], [None], [None], [None], [None], [None], [None], [None], [None], [None], [None], [None], [None], [None], [None], [None], [None], [None], [None], [None], [None], [None], [None], [None], [None], [None], [None], [None], [None], [None], [None], [None], [None], [None], [None], [None], [None], [None], [None], [None], [None], [None], [None], [None], [None], [None], [None], [None], [None], [None], [None], [None], [None], [None], [None], [None], [None], [None], [None], [None], [None], [], [None], [None], [None], [None], [None], [None], [None], [None], [None], [None], [None], [None], [None], [None], [None], [None], [None], [None], [None], [None], [None], [None], [None], [None], [None], [None], [None], [None], [None], [None], [None], [None], [None], [None], [None], [None], [None], [None], [None], [None], [None], [None], [None], [None], [None], [None], [None], [None], [None], [None], [None], [None], [None], [None], [None], [None], [None], [None], [None], [None], [None], [None], [None], [None], [None], [None], [None], [None], [None], [None], [None], [None], [None], [None], [None], [None], [None], [None], [None], [None], [None], [None], [None], [None], [None], [None], [None], [None], [None], [None], [None], [None], [None], [None], [None], [None], [None], [None], [None], [None], [None], [None], [None], [None], [None], [None], [None], [None], [None], [None], [None], [None], [None], [None], [None], [None], [None], [None], [None], [None], [None], [None], [None], [None], [None], [None], [None], [None], [None], [None], [None], [None], [None], [None], [None], [None], [None], [None], [None], [None], [None]]\n",
            "\n",
            "Enter your sentence: \n",
            "exit\n",
            "transform started\n",
            "Inferred tags\n",
            "[['O'], ['O'], ['인원'], ['O']]\n",
            "Slots score\n",
            "[[None], [None], [None], [None]]\n",
            "\n",
            "Enter your sentence: \n",
            "quit\n",
            "transform started\n",
            "Inferred tags\n",
            "[['O'], ['O'], ['인원'], ['O']]\n",
            "Slots score\n",
            "[[None], [None], [None], [None]]\n"
          ],
          "name": "stdout"
        }
      ]
    }
  ]
}